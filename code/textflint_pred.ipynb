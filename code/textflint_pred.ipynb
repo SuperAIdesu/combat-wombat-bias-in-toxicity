{
 "cells": [
  {
   "cell_type": "code",
   "execution_count": 1,
   "metadata": {},
   "outputs": [
    {
     "name": "stderr",
     "output_type": "stream",
     "text": [
      "/home/ubuntu/mambaforge/envs/trainbert/lib/python3.7/site-packages/tqdm/auto.py:21: TqdmWarning: IProgress not found. Please update jupyter and ipywidgets. See https://ipywidgets.readthedocs.io/en/stable/user_install.html\n",
      "  from .autonotebook import tqdm as notebook_tqdm\n"
     ]
    }
   ],
   "source": [
    "import numpy as np\n",
    "import pandas as pd\n",
    "from predict_utils import *"
   ]
  },
  {
   "cell_type": "code",
   "execution_count": 2,
   "metadata": {},
   "outputs": [],
   "source": [
    "df1 = pd.read_csv(\"models/test_tf1.csv\")\n",
    "df2 = pd.read_csv(\"models/test_tf2.csv\")\n",
    "df3 = pd.read_csv(\"models/test_tf3.csv\")"
   ]
  },
  {
   "cell_type": "code",
   "execution_count": 3,
   "metadata": {},
   "outputs": [
    {
     "name": "stdout",
     "output_type": "stream",
     "text": [
      "Max len = 367\n",
      "Max len = 364\n"
     ]
    }
   ],
   "source": [
    "pred1 = predict_transformed(df1[\"x\"].values)\n",
    "pred2 = predict_transformed(df2[\"x\"].values)\n"
   ]
  },
  {
   "cell_type": "code",
   "execution_count": 4,
   "metadata": {},
   "outputs": [],
   "source": [
    "pred1 = pred1[:, 0]\n",
    "pred2 = pred2[:, 0]"
   ]
  },
  {
   "cell_type": "code",
   "execution_count": 5,
   "metadata": {},
   "outputs": [],
   "source": [
    "y_true1 = df1[\"y\"].astype(int).values\n",
    "y_true2 = df2[\"y\"].astype(int).values"
   ]
  },
  {
   "cell_type": "code",
   "execution_count": 6,
   "metadata": {},
   "outputs": [],
   "source": [
    "from sklearn.metrics import accuracy_score, f1_score, precision_score, recall_score\n",
    "\n",
    "def get_metrics(model_pred, y_true):\n",
    "    y_pred = (model_pred >= 0.5).astype(int)\n",
    "    print(f\"Accuracy: {accuracy_score(y_true, y_pred)}\")\n",
    "    print(f\"Precision: {precision_score(y_true, y_pred)}\")\n",
    "    print(f\"Recall: {recall_score(y_true, y_pred)}\")\n",
    "    print(f\"F1: {f1_score(y_true, y_pred)}\")"
   ]
  },
  {
   "cell_type": "code",
   "execution_count": 7,
   "metadata": {},
   "outputs": [
    {
     "name": "stdout",
     "output_type": "stream",
     "text": [
      "Accuracy: 0.9389976310258532\n",
      "Precision: 0.7793221927221615\n",
      "Recall: 0.32301916105644746\n",
      "F1: 0.4567296691226946\n"
     ]
    }
   ],
   "source": [
    "get_metrics(pred1, y_true1)"
   ]
  },
  {
   "cell_type": "code",
   "execution_count": 8,
   "metadata": {},
   "outputs": [
    {
     "name": "stdout",
     "output_type": "stream",
     "text": [
      "Accuracy: 0.94101564530381\n",
      "Precision: 0.8349931318681318\n",
      "Recall: 0.31888524590163936\n",
      "F1: 0.46151656069089875\n"
     ]
    }
   ],
   "source": [
    "get_metrics(pred2, y_true2)"
   ]
  },
  {
   "cell_type": "code",
   "execution_count": 9,
   "metadata": {},
   "outputs": [
    {
     "name": "stdout",
     "output_type": "stream",
     "text": [
      "Max len = 365\n"
     ]
    }
   ],
   "source": [
    "df3 = df3.dropna()\n",
    "\n",
    "pred3 = predict_transformed(df3[\"x\"].values)"
   ]
  },
  {
   "cell_type": "code",
   "execution_count": 10,
   "metadata": {},
   "outputs": [
    {
     "name": "stdout",
     "output_type": "stream",
     "text": [
      "Accuracy: 0.9415756157903181\n",
      "Precision: 0.8614542887398517\n",
      "Recall: 0.3172776911076443\n",
      "F1: 0.46375296912114017\n"
     ]
    }
   ],
   "source": [
    "pred3 = pred3[:, 0]\n",
    "y_true3 = df3[\"y\"].astype(int).values\n",
    "get_metrics(pred3, y_true3)"
   ]
  },
  {
   "cell_type": "code",
   "execution_count": 11,
   "metadata": {},
   "outputs": [],
   "source": [
    "test1 = pd.read_csv('../input/jigsaw-unintended-bias-in-toxicity-classification/test_private_expanded.csv')\n",
    "test2 = pd.read_csv('../input/jigsaw-unintended-bias-in-toxicity-classification/test_public_expanded.csv')\n",
    "test = pd.concat([test1, test2])\n",
    "ori_pred = pd.read_csv(\"models/lstm_5_targets.csv\")[\"target_0\"].values"
   ]
  },
  {
   "cell_type": "code",
   "execution_count": 12,
   "metadata": {},
   "outputs": [
    {
     "name": "stdout",
     "output_type": "stream",
     "text": [
      "Accuracy: 0.9569358816276202\n",
      "Precision: 0.7968408670811629\n",
      "Recall: 0.6139306059036769\n",
      "F1: 0.6935283363802559\n"
     ]
    }
   ],
   "source": [
    "get_metrics(ori_pred, (test[\"toxicity\"] >= 0.5).values.astype(int))"
   ]
  },
  {
   "cell_type": "code",
   "execution_count": null,
   "metadata": {},
   "outputs": [],
   "source": []
  }
 ],
 "metadata": {
  "kernelspec": {
   "display_name": "trainbert",
   "language": "python",
   "name": "python3"
  },
  "language_info": {
   "codemirror_mode": {
    "name": "ipython",
    "version": 3
   },
   "file_extension": ".py",
   "mimetype": "text/x-python",
   "name": "python",
   "nbconvert_exporter": "python",
   "pygments_lexer": "ipython3",
   "version": "3.7.12"
  },
  "orig_nbformat": 4
 },
 "nbformat": 4,
 "nbformat_minor": 2
}
